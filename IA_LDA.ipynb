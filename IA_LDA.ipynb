{
  "nbformat": 4,
  "nbformat_minor": 0,
  "metadata": {
    "colab": {
      "provenance": [],
      "authorship_tag": "ABX9TyPmT08j4ETEjmzfasAru5c1",
      "include_colab_link": true
    },
    "kernelspec": {
      "name": "python3",
      "display_name": "Python 3"
    },
    "language_info": {
      "name": "python"
    }
  },
  "cells": [
    {
      "cell_type": "markdown",
      "metadata": {
        "id": "view-in-github",
        "colab_type": "text"
      },
      "source": [
        "<a href=\"https://colab.research.google.com/github/Wolf-gangSE/diabetes-prediction/blob/main/IA_LDA.ipynb\" target=\"_parent\"><img src=\"https://colab.research.google.com/assets/colab-badge.svg\" alt=\"Open In Colab\"/></a>"
      ]
    },
    {
      "cell_type": "markdown",
      "source": [
        "# Testando algoritmo LDA"
      ],
      "metadata": {
        "id": "G0-ChDHbnCZ_"
      }
    },
    {
      "cell_type": "code",
      "execution_count": null,
      "metadata": {
        "id": "xsvhKzIcm_wr"
      },
      "outputs": [],
      "source": [
        "import pandas as pd\n",
        "import numpy as np\n",
        "import matplotlib.pyplot as plt\n",
        "import seaborn as sns\n",
        "from sklearn.metrics import classification_report\n",
        "from sklearn.model_selection import train_test_split\n",
        "from sklearn.discriminant_analysis import LinearDiscriminantAnalysis\n",
        "from sklearn.datasets import make_classification\n",
        "from sklearn.metrics import ConfusionMatrixDisplay,precision_score,recall_score,confusion_matrix"
      ]
    },
    {
      "cell_type": "code",
      "source": [
        "# load through url\n",
        "# ler a url. É possível baixar o arquivo *.csv e adicionar o path\n",
        "url = 'https://raw.githubusercontent.com/Wolf-gangSE/diabetes-prediction/main/diabetes_binary_health_indicators_BRFSS2015.csv'\n",
        "dataset = pd.read_csv(url)"
      ],
      "metadata": {
        "id": "KaUxwvTC-0G8"
      },
      "execution_count": null,
      "outputs": []
    },
    {
      "cell_type": "code",
      "source": [
        "X = dataset.drop('Diabetes_binary',axis=1)\n",
        "Y = dataset['Diabetes_binary']\n",
        "X_train, X_test, Y_train, Y_test = train_test_split( X, Y, test_size=0.20)"
      ],
      "metadata": {
        "id": "XBkKYiBY-7UL"
      },
      "execution_count": null,
      "outputs": []
    },
    {
      "cell_type": "code",
      "source": [
        "LDA = LinearDiscriminantAnalysis()\n",
        "LDA.fit(X_train, Y_train)\n",
        "LDA_pred=LDA.predict(X_test)"
      ],
      "metadata": {
        "id": "UREwBs1M_TjD"
      },
      "execution_count": null,
      "outputs": []
    },
    {
      "cell_type": "code",
      "source": [
        "print(classification_report(Y_test, LDA_pred))"
      ],
      "metadata": {
        "colab": {
          "base_uri": "https://localhost:8080/"
        },
        "id": "Smj7ZnHsiphE",
        "outputId": "3e629150-2ff3-46a6-9cfc-d91c2cd43fae"
      },
      "execution_count": null,
      "outputs": [
        {
          "output_type": "stream",
          "name": "stdout",
          "text": [
            "              precision    recall  f1-score   support\n",
            "\n",
            "         0.0       0.88      0.97      0.92     43647\n",
            "         1.0       0.51      0.21      0.30      7089\n",
            "\n",
            "    accuracy                           0.86     50736\n",
            "   macro avg       0.70      0.59      0.61     50736\n",
            "weighted avg       0.83      0.86      0.84     50736\n",
            "\n"
          ]
        }
      ]
    },
    {
      "cell_type": "code",
      "source": [
        "tn, fp, fn, tp = confusion_matrix(list(Y_test), list(LDA_pred), labels=[0, 1]).ravel()\n",
        " \n",
        "print('True Positive', tp)\n",
        "print('True Negative', tn)\n",
        "print('False Positive', fp)\n",
        "print('False Negative', fn)\n",
        " \n",
        "ConfusionMatrixDisplay.from_predictions(Y_test, LDA_pred)\n",
        "plt.show()"
      ],
      "metadata": {
        "colab": {
          "base_uri": "https://localhost:8080/",
          "height": 348
        },
        "id": "TAv29CTh_eDj",
        "outputId": "47e78ecd-03a3-4cf7-9bd0-58d5ff2a6e59"
      },
      "execution_count": null,
      "outputs": [
        {
          "output_type": "stream",
          "name": "stdout",
          "text": [
            "True Positive 1496\n",
            "True Negative 42227\n",
            "False Positive 1420\n",
            "False Negative 5593\n"
          ]
        },
        {
          "output_type": "display_data",
          "data": {
            "text/plain": [
              "<Figure size 432x288 with 2 Axes>"
            ],
            "image/png": "[encoded data removed]"
          },
          "metadata": {
            "needs_background": "light"
          }
        }
      ]
    },
    {
      "cell_type": "markdown",
      "source": [
        "## Testando solver 'lsqr'"
      ],
      "metadata": {
        "id": "Q3CVIOt-7xF4"
      }
    },
    {
      "cell_type": "code",
      "source": [
        "LDA = LinearDiscriminantAnalysis(solver='lsqr')\n",
        "LDA.fit(X_train, Y_train)\n",
        "LDA_pred=LDA.predict(X_test)"
      ],
      "metadata": {
        "id": "XvZx9i8775H-"
      },
      "execution_count": null,
      "outputs": []
    },
    {
      "cell_type": "code",
      "source": [
        "print(classification_report(Y_test, LDA_pred))"
      ],
      "metadata": {
        "colab": {
          "base_uri": "https://localhost:8080/"
        },
        "id": "unTmLb277_v2",
        "outputId": "d5236f7d-6422-44e5-fafb-5ddc6cb2e611"
      },
      "execution_count": null,
      "outputs": [
        {
          "output_type": "stream",
          "name": "stdout",
          "text": [
            "              precision    recall  f1-score   support\n",
            "\n",
            "         0.0       0.88      0.97      0.92     43646\n",
            "         1.0       0.51      0.20      0.29      7090\n",
            "\n",
            "    accuracy                           0.86     50736\n",
            "   macro avg       0.70      0.59      0.61     50736\n",
            "weighted avg       0.83      0.86      0.83     50736\n",
            "\n"
          ]
        }
      ]
    },
    {
      "cell_type": "code",
      "source": [
        "tn, fp, fn, tp = confusion_matrix(list(Y_test), list(LDA_pred), labels=[0, 1]).ravel()\n",
        " \n",
        "print('True Positive', tp)\n",
        "print('True Negative', tn)\n",
        "print('False Positive', fp)\n",
        "print('False Negative', fn)\n",
        " \n",
        "ConfusionMatrixDisplay.from_predictions(Y_test, LDA_pred)\n",
        "plt.show()"
      ],
      "metadata": {
        "colab": {
          "base_uri": "https://localhost:8080/",
          "height": 348
        },
        "id": "pYT-u63r8Bwo",
        "outputId": "aa6637da-90db-487f-f843-09edd46b8eef"
      },
      "execution_count": null,
      "outputs": [
        {
          "output_type": "stream",
          "name": "stdout",
          "text": [
            "True Positive 1434\n",
            "True Negative 42289\n",
            "False Positive 1357\n",
            "False Negative 5656\n"
          ]
        },
        {
          "output_type": "display_data",
          "data": {
            "text/plain": [
              "<Figure size 432x288 with 2 Axes>"
            ],
            "image/png": "[encoded data removed]"
          },
          "metadata": {
            "needs_background": "light"
          }
        }
      ]
    },
    {
      "cell_type": "markdown",
      "source": [
        "## Testando solver 'eigen'"
      ],
      "metadata": {
        "id": "RoygCp26fjLR"
      }
    },
    {
      "cell_type": "code",
      "source": [
        "LDA = LinearDiscriminantAnalysis(solver='eigen')\n",
        "LDA.fit(X_train, Y_train)\n",
        "LDA_pred=LDA.predict(X_test)"
      ],
      "metadata": {
        "id": "3Uc4DPkjfrr0"
      },
      "execution_count": null,
      "outputs": []
    },
    {
      "cell_type": "code",
      "source": [
        "print(classification_report(Y_test, LDA_pred))"
      ],
      "metadata": {
        "colab": {
          "base_uri": "https://localhost:8080/"
        },
        "id": "l77WCGc6fzs0",
        "outputId": "a586cbcd-ffcd-49c8-ae2e-3a2e741cddf3"
      },
      "execution_count": null,
      "outputs": [
        {
          "output_type": "stream",
          "name": "stdout",
          "text": [
            "              precision    recall  f1-score   support\n",
            "\n",
            "         0.0       0.88      0.97      0.92     43647\n",
            "         1.0       0.51      0.21      0.30      7089\n",
            "\n",
            "    accuracy                           0.86     50736\n",
            "   macro avg       0.70      0.59      0.61     50736\n",
            "weighted avg       0.83      0.86      0.84     50736\n",
            "\n"
          ]
        }
      ]
    },
    {
      "cell_type": "code",
      "source": [
        "tn, fp, fn, tp = confusion_matrix(list(Y_test), list(LDA_pred), labels=[0, 1]).ravel()\n",
        " \n",
        "print('True Positive', tp)\n",
        "print('True Negative', tn)\n",
        "print('False Positive', fp)\n",
        "print('False Negative', fn)\n",
        " \n",
        "ConfusionMatrixDisplay.from_predictions(Y_test, LDA_pred)\n",
        "plt.show()"
      ],
      "metadata": {
        "colab": {
          "base_uri": "https://localhost:8080/",
          "height": 348
        },
        "id": "7K4DFm_Of13T",
        "outputId": "381eecb4-78b3-4976-e50b-3b94949d970d"
      },
      "execution_count": null,
      "outputs": [
        {
          "output_type": "stream",
          "name": "stdout",
          "text": [
            "True Positive 1496\n",
            "True Negative 42227\n",
            "False Positive 1420\n",
            "False Negative 5593\n"
          ]
        },
        {
          "output_type": "display_data",
          "data": {
            "text/plain": [
              "<Figure size 432x288 with 2 Axes>"
            ],
            "image/png": "[encoded data removed]"
          },
          "metadata": {
            "needs_background": "light"
          }
        }
      ]
    }
  ]
}